{
 "cells": [
  {
   "cell_type": "code",
   "execution_count": 3,
   "metadata": {},
   "outputs": [
    {
     "name": "stderr",
     "output_type": "stream",
     "text": [
      "c:\\Users\\Administrator\\AppData\\Local\\Programs\\Python\\Python312\\Lib\\site-packages\\xgboost\\core.py:158: UserWarning: [13:30:58] WARNING: C:\\buildkite-agent\\builds\\buildkite-windows-cpu-autoscaling-group-i-0015a694724fa8361-1\\xgboost\\xgboost-ci-windows\\src\\learner.cc:740: \n",
      "Parameters: { \"use_label_encoder\" } are not used.\n",
      "\n",
      "  warnings.warn(smsg, UserWarning)\n"
     ]
    },
    {
     "name": "stdout",
     "output_type": "stream",
     "text": [
      "Exactitud del modelo XGBoost en el conjunto de prueba: 0.96\n",
      "XGBoost - Recall en Entrenamiento: 0.97\n",
      "XGBoost - Recall en Prueba: 0.95\n",
      "XGBoost - F1 Score en Entrenamiento: 0.98\n",
      "XGBoost - F1 Score en Prueba: 0.96\n",
      "XGBoost - AUC en Entrenamiento: 1.00\n",
      "XGBoost - AUC en Prueba: 1.00\n"
     ]
    }
   ],
   "source": [
    "from xgboost import XGBClassifier\n",
    "from sklearn.model_selection import train_test_split\n",
    "from sklearn.metrics import accuracy_score\n",
    "from sklearn.metrics import recall_score, f1_score, roc_auc_score\n",
    "import pandas as pd\n",
    "\n",
    "df = pd.read_csv('airline_passenger_satisfaction_cleaned.csv')\n",
    "\n",
    "X = df.drop('satisfaction', axis=1)\n",
    "\n",
    "# Definir y (la columna objetivo)\n",
    "y = df['satisfaction']\n",
    "# Dividir los datos en conjunto de entrenamiento (80%) y prueba (20%)\n",
    "X_train, X_test, y_train, y_test = train_test_split(X, y, test_size=0.2, random_state=42)\n",
    "\n",
    "# Inicializar el modelo XGBClassifier\n",
    "model = XGBClassifier(n_estimators=500, learning_rate=0.1, max_depth=6, use_label_encoder=False, eval_metric='logloss')\n",
    "\n",
    "# Entrenar el modelo\n",
    "model.fit(X_train, y_train)\n",
    "\n",
    "# Predecir en el conjunto de prueba\n",
    "y_pred = model.predict(X_test)\n",
    "\n",
    "# Evaluar el modelo\n",
    "accuracy = accuracy_score(y_test, y_pred)\n",
    "print(f\"Exactitud del modelo XGBoost en el conjunto de prueba: {accuracy:.2f}\")\n",
    "\n",
    "xgboost_train_preds = model.predict(X_train)\n",
    "xgboost_test_preds = model.predict(X_test)\n",
    "xgboost_train_proba = model.predict_proba(X_train)[:, 1]\n",
    "xgboost_test_proba = model.predict_proba(X_test)[:, 1]\n",
    "\n",
    "xgboost_train_recall = recall_score(y_train, xgboost_train_preds)\n",
    "xgboost_test_recall = recall_score(y_test, xgboost_test_preds)\n",
    "xgboost_train_f1 = f1_score(y_train, xgboost_train_preds)\n",
    "xgboost_test_f1 = f1_score(y_test, xgboost_test_preds)\n",
    "xgboost_train_auc = roc_auc_score(y_train, xgboost_train_proba)\n",
    "xgboost_test_auc = roc_auc_score(y_test, xgboost_test_proba)\n",
    "\n",
    "print(f\"XGBoost - Recall en Entrenamiento: {xgboost_train_recall:.2f}\")\n",
    "print(f\"XGBoost - Recall en Prueba: {xgboost_test_recall:.2f}\")\n",
    "print(f\"XGBoost - F1 Score en Entrenamiento: {xgboost_train_f1:.2f}\")\n",
    "print(f\"XGBoost - F1 Score en Prueba: {xgboost_test_f1:.2f}\")\n",
    "print(f\"XGBoost - AUC en Entrenamiento: {xgboost_train_auc:.2f}\")\n",
    "print(f\"XGBoost - AUC en Prueba: {xgboost_test_auc:.2f}\")\n"
   ]
  }
 ],
 "metadata": {
  "kernelspec": {
   "display_name": "Python 3",
   "language": "python",
   "name": "python3"
  },
  "language_info": {
   "codemirror_mode": {
    "name": "ipython",
    "version": 3
   },
   "file_extension": ".py",
   "mimetype": "text/x-python",
   "name": "python",
   "nbconvert_exporter": "python",
   "pygments_lexer": "ipython3",
   "version": "3.12.4"
  }
 },
 "nbformat": 4,
 "nbformat_minor": 2
}
