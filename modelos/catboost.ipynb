{
 "cells": [
  {
   "cell_type": "markdown",
   "metadata": {},
   "source": [
    "## Importar Librerías"
   ]
  },
  {
   "cell_type": "code",
   "execution_count": 1,
   "metadata": {},
   "outputs": [],
   "source": [
    "from sklearn.model_selection import train_test_split\n",
    "from catboost import CatBoostClassifier\n",
    "import matplotlib.pyplot as plt\n",
    "import pandas as pd\n",
    "from sklearn.metrics import recall_score, f1_score, roc_auc_score\n",
    "import os\n",
    "\n",
    "#df = pd.read_csv('airline_passenger_satisfaction_cleaned.csv')\n",
    "# Seleccionar las características (X) y la variable objetivo (y)\n",
    "#X = df.drop(columns=['satisfaction'])  # Eliminar la columna objetivo del conjunto de características\n",
    "#y = df['satisfaction']  # Columna objetivo\n",
    "\n",
    "# Dividir los datos en conjunto de entrenamiento (80%) y prueba (20%)\n",
    "#X_train, X_test, y_train, y_test = train_test_split(X, y, test_size=0.2, random_state=42)\n",
    "\n"
   ]
  },
  {
   "cell_type": "markdown",
   "metadata": {},
   "source": [
    "## Cargar datos en formato CSV para ENTRENAMIENTO, VALIDACION y TEST "
   ]
  },
  {
   "cell_type": "markdown",
   "metadata": {},
   "source": [
    "### **Importancia de Cada Conjunto:**\n",
    "\n",
    "- **Conjunto de Entrenamiento:** Utilizado para ajustar los pesos del modelo. Aquí, el modelo \"aprende\" de los datos.\n",
    "- **Conjunto de Validación:** Utilizado para ajustar los hiperparámetros del modelo (como la profundidad de un árbol, la tasa de aprendizaje, el número de árboles, etc.) y para realizar la selección del modelo. Ayuda a determinar cuándo detener el entrenamiento para evitar sobreajuste.\n",
    "- **Conjunto de Test:** Proporciona una evaluación final del rendimiento del modelo. Es esencial que este conjunto no se utilice para ajustar el modelo de ninguna manera para garantizar que el resultado refleje el rendimiento en datos no vistos."
   ]
  },
  {
   "cell_type": "code",
   "execution_count": 2,
   "metadata": {},
   "outputs": [
    {
     "name": "stdout",
     "output_type": "stream",
     "text": [
      "Todos los archivos tienen un número de filas coincidente entre características y etiquetas, y la columna objetivo es 'satisfaction'.\n"
     ]
    }
   ],
   "source": [
    "# Crear la ruta si no existe\n",
    "ruta = os.path.abspath('../data/modelos_entrenamiento/')\n",
    "\n",
    "# Datos Entrenamiento\n",
    "X_train = pd.read_csv(os.path.join(ruta, 'X_train.csv'))\n",
    "y_train = pd.read_csv(os.path.join(ruta, 'y_train.csv'))\n",
    "\n",
    "# Datos Validación\n",
    "X_val = pd.read_csv(os.path.join(ruta, 'X_val.csv'))\n",
    "y_val = pd.read_csv(os.path.join(ruta, 'y_val.csv'))\n",
    "\n",
    "# Datos Test (Prueba)\n",
    "X_test = pd.read_csv(os.path.join(ruta, 'X_test.csv'))\n",
    "y_test = pd.read_csv(os.path.join(ruta, 'y_test.csv'))\n",
    "\n",
    "# Verificar que las dimensiones de X e y coincidan para cada conjunto de datos\n",
    "assert X_train.shape[0] == y_train.shape[0], \"Error: El número de filas en X_train y y_train no coincide.\"\n",
    "assert X_val.shape[0] == y_val.shape[0], \"Error: El número de filas en X_val y y_val no coincide.\"\n",
    "assert X_test.shape[0] == y_test.shape[0], \"Error: El número de filas en X_test y y_test no coincide.\"\n",
    "\n",
    "# Verificar que las columnas tengan nombres correctos y consistentes\n",
    "assert 'satisfaction' in y_train.columns, \"Error: El archivo y_train.csv debe tener una columna llamada 'satisfaction'.\"\n",
    "assert 'satisfaction' in y_val.columns, \"Error: El archivo y_val.csv debe tener una columna llamada 'satisfaction'.\"\n",
    "assert 'satisfaction' in y_test.columns, \"Error: El archivo y_test.csv debe tener una columna llamada 'satisfaction'.\"\n",
    "\n",
    "print(\"Todos los archivos tienen un número de filas coincidente entre características y etiquetas, y la columna objetivo es 'satisfaction'.\")"
   ]
  },
  {
   "cell_type": "markdown",
   "metadata": {},
   "source": [
    "### Verificar si las variables son numericas para evitar error al entrenar el modelo"
   ]
  },
  {
   "cell_type": "code",
   "execution_count": 3,
   "metadata": {},
   "outputs": [
    {
     "name": "stdout",
     "output_type": "stream",
     "text": [
      "Tipo de datos de y_train: satisfaction    int64\n",
      "dtype: object\n",
      "Tipo de datos de y_val: satisfaction    int64\n",
      "dtype: object\n",
      "Tipo de datos de y_test: satisfaction    int64\n",
      "dtype: object\n"
     ]
    }
   ],
   "source": [
    "# Verificar tipos de datos de las etiquetas\n",
    "print(\"Tipo de datos de y_train:\", y_train.dtypes)\n",
    "print(\"Tipo de datos de y_val:\", y_val.dtypes)\n",
    "print(\"Tipo de datos de y_test:\", y_test.dtypes)"
   ]
  },
  {
   "cell_type": "markdown",
   "metadata": {},
   "source": [
    "## Separar características y etiquetas\n",
    "Hay que separar las características (X) de la variable objetivo (y) para cada dataset."
   ]
  },
  {
   "cell_type": "code",
   "execution_count": 4,
   "metadata": {},
   "outputs": [
    {
     "name": "stdout",
     "output_type": "stream",
     "text": [
      "Características y etiquetas separadas correctamente.\n"
     ]
    }
   ],
   "source": [
    "# Separar las características (X) de la variable objetivo (y)\n",
    "# Ya hemos cargado los archivos con solo características en X_train, X_val, X_test\n",
    "\n",
    "# Separar la variable objetivo (y) - Asumimos que y_train, y_val, y_test solo tienen la columna 'satisfaction'\n",
    "y_train = y_train['satisfaction']\n",
    "y_val = y_val['satisfaction']\n",
    "y_test = y_test['satisfaction']\n",
    "\n",
    "print(\"Características y etiquetas separadas correctamente.\")"
   ]
  },
  {
   "cell_type": "markdown",
   "metadata": {},
   "source": [
    "## Inicializar el modelo CatBoostClassifier"
   ]
  },
  {
   "cell_type": "code",
   "execution_count": 5,
   "metadata": {},
   "outputs": [
    {
     "name": "stdout",
     "output_type": "stream",
     "text": [
      "0:\tlearn: 0.5642258\ttest: 0.5643419\tbest: 0.5643419 (0)\ttotal: 153ms\tremaining: 1m 16s\n",
      "100:\tlearn: 0.0954957\ttest: 0.1020326\tbest: 0.1020326 (100)\ttotal: 1.38s\tremaining: 5.43s\n",
      "200:\tlearn: 0.0812890\ttest: 0.0933198\tbest: 0.0933198 (200)\ttotal: 2.58s\tremaining: 3.83s\n",
      "300:\tlearn: 0.0732948\ttest: 0.0903986\tbest: 0.0903844 (299)\ttotal: 3.85s\tremaining: 2.55s\n",
      "400:\tlearn: 0.0675110\ttest: 0.0891242\tbest: 0.0891138 (378)\ttotal: 5.03s\tremaining: 1.24s\n",
      "499:\tlearn: 0.0624786\ttest: 0.0884543\tbest: 0.0884543 (499)\ttotal: 6.44s\tremaining: 0us\n",
      "\n",
      "bestTest = 0.08845431341\n",
      "bestIteration = 499\n",
      "\n",
      "Exactitud del modelo en el conjunto de prueba: 0.96\n",
      "CatBoost - Recall en Entrenamiento: 0.96\n",
      "CatBoost - Recall en Prueba: 0.94\n",
      "CatBoost - F1 Score en Entrenamiento: 0.97\n",
      "CatBoost - F1 Score en Prueba: 0.96\n",
      "CatBoost - AUC en Entrenamiento: 1.00\n",
      "CatBoost - AUC en Prueba: 1.00\n"
     ]
    }
   ],
   "source": [
    "# Inicializar el modelo CatBoostClassifier - Erika\n",
    "# Aquí se especifican los parámetros principales del modelo:\n",
    "# - iterations: número de iteraciones (árboles) a entrenar\n",
    "# - depth: profundidad de los árboles de decisión\n",
    "# - learning_rate: tasa de aprendizaje para el ajuste de los pesos\n",
    "# - verbose: cada cuántas iteraciones se imprime un resumen del progreso\n",
    "model = CatBoostClassifier(iterations=500, depth=6, learning_rate=0.1, verbose=100)\n",
    "\n",
    "# Entrenar el modelo utilizando el conjunto de entrenamiento y validación\n",
    "# El parámetro eval_set se utiliza para especificar el conjunto de validación.\n",
    "# early_stopping_rounds permite detener el entrenamiento si no hay mejora en el conjunto de validación\n",
    "model.fit(X_train, y_train, eval_set=(X_val, y_val), early_stopping_rounds=50)\n",
    "\n",
    "# Evaluar el modelo en el conjunto de prueba (test)\n",
    "# El método score devuelve la exactitud (accuracy) del modelo en el conjunto de prueba\n",
    "accuracy = model.score(X_test, y_test)\n",
    "print(f\"Exactitud del modelo en el conjunto de prueba: {accuracy:.2f}\")\n",
    "\n",
    "# Realizar predicciones en los conjuntos de entrenamiento y prueba\n",
    "# predict() devuelve las etiquetas predichas para las muestras proporcionadas\n",
    "catboost_train_preds = model.predict(X_train)\n",
    "catboost_test_preds = model.predict(X_test)\n",
    "\n",
    "# Calcular las probabilidades predichas para el conjunto de entrenamiento y prueba\n",
    "# predict_proba() devuelve las probabilidades de clase; [:, 1] selecciona la probabilidad de la clase positiva\n",
    "catboost_train_proba = model.predict_proba(X_train)[:, 1]\n",
    "catboost_test_proba = model.predict_proba(X_test)[:, 1]\n",
    "\n",
    "# Calcular las métricas de evaluación para los conjuntos de entrenamiento y prueba\n",
    "# Recall (Sensibilidad): mide la capacidad del modelo para detectar todas las muestras positivas\n",
    "# Usamos pos_label=1 porque las etiquetas son numéricas (0 para 'neutral or dissatisfied' y 1 para 'satisfied')\n",
    "catboost_train_recall = recall_score(y_train, catboost_train_preds, pos_label=1)\n",
    "catboost_test_recall = recall_score(y_test, catboost_test_preds, pos_label=1)\n",
    "\n",
    "# F1 Score: media armónica de la precisión y la sensibilidad, útil en conjuntos de datos desbalanceados\n",
    "catboost_train_f1 = f1_score(y_train, catboost_train_preds, pos_label=1)\n",
    "catboost_test_f1 = f1_score(y_test, catboost_test_preds, pos_label=1)\n",
    "\n",
    "# AUC (Area Under the Curve): mide la capacidad del modelo para distinguir entre clases\n",
    "# No es necesario mapear las etiquetas ya que y_train y y_test son numéricas\n",
    "catboost_train_auc = roc_auc_score(y_train, catboost_train_proba)\n",
    "catboost_test_auc = roc_auc_score(y_test, catboost_test_proba)\n",
    "\n",
    "# Imprimir las métricas de evaluación para analizar el rendimiento del modelo\n",
    "print(f\"CatBoost - Recall en Entrenamiento: {catboost_train_recall:.2f}\")\n",
    "print(f\"CatBoost - Recall en Prueba: {catboost_test_recall:.2f}\")\n",
    "print(f\"CatBoost - F1 Score en Entrenamiento: {catboost_train_f1:.2f}\")\n",
    "print(f\"CatBoost - F1 Score en Prueba: {catboost_test_f1:.2f}\")\n",
    "print(f\"CatBoost - AUC en Entrenamiento: {catboost_train_auc:.2f}\")\n",
    "print(f\"CatBoost - AUC en Prueba: {catboost_test_auc:.2f}\")\n"
   ]
  },
  {
   "cell_type": "code",
   "execution_count": 7,
   "metadata": {},
   "outputs": [],
   "source": [
    "# Guarda el modelo CatBoost entrenado\n",
    "model.save_model('../modelos/modelos_entrenamiento/catboost_model.cbm')\n"
   ]
  }
 ],
 "metadata": {
  "kernelspec": {
   "display_name": "Python 3",
   "language": "python",
   "name": "python3"
  },
  "language_info": {
   "codemirror_mode": {
    "name": "ipython",
    "version": 3
   },
   "file_extension": ".py",
   "mimetype": "text/x-python",
   "name": "python",
   "nbconvert_exporter": "python",
   "pygments_lexer": "ipython3",
   "version": "3.12.4"
  }
 },
 "nbformat": 4,
 "nbformat_minor": 2
}
