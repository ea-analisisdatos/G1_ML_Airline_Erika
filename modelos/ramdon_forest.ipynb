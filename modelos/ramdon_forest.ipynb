{
 "cells": [
  {
   "cell_type": "code",
   "execution_count": 3,
   "metadata": {},
   "outputs": [
    {
     "name": "stdout",
     "output_type": "stream",
     "text": [
      "Exactitud del modelo Random Forest en el conjunto de prueba: 0.93\n",
      "RandomForest - Recall en Entrenamiento: 0.91\n",
      "RandomForest - Recall en Prueba: 0.91\n",
      "RandomForest - F1 Score en Entrenamiento: 0.92\n",
      "RandomForest - F1 Score en Prueba: 0.92\n",
      "RandomForest - AUC en Entrenamiento: 0.98\n",
      "RandomForest - AUC en Prueba: 0.98\n"
     ]
    }
   ],
   "source": [
    "from sklearn.ensemble import RandomForestClassifier\n",
    "from sklearn.model_selection import train_test_split\n",
    "from sklearn.metrics import accuracy_score\n",
    "from sklearn.metrics import recall_score, f1_score, roc_auc_score\n",
    "import pandas as pd\n",
    "\n",
    "df = pd.read_csv('airline_passenger_satisfaction_cleaned.csv')\n",
    "\n",
    "X = df.drop('satisfaction', axis=1)\n",
    "\n",
    "# Definir y (la columna objetivo)\n",
    "y = df['satisfaction']\n",
    "# Dividir los datos en conjunto de entrenamiento (80%) y prueba (20%)\n",
    "X_train, X_test, y_train, y_test = train_test_split(X, y, test_size=0.2, random_state=42)\n",
    "\n",
    "# Inicializar el modelo RandomForestClassifier\n",
    "model = RandomForestClassifier(n_estimators=500, max_depth=6, random_state=42)\n",
    "\n",
    "# Entrenar el modelo\n",
    "model.fit(X_train, y_train)\n",
    "\n",
    "# Predecir en el conjunto de prueba\n",
    "y_pred = model.predict(X_test)\n",
    "\n",
    "# Evaluar el modelo\n",
    "accuracy = accuracy_score(y_test, y_pred)\n",
    "print(f\"Exactitud del modelo Random Forest en el conjunto de prueba: {accuracy:.2f}\")\n",
    "\n",
    "rf_train_preds = model.predict(X_train)\n",
    "rf_test_preds = model.predict(X_test)\n",
    "rf_train_proba = model.predict_proba(X_train)[:, 1]\n",
    "rf_test_proba = model.predict_proba(X_test)[:, 1]\n",
    "\n",
    "rf_train_recall = recall_score(y_train, rf_train_preds)\n",
    "rf_test_recall = recall_score(y_test, rf_test_preds)\n",
    "rf_train_f1 = f1_score(y_train, rf_train_preds)\n",
    "rf_test_f1 = f1_score(y_test, rf_test_preds)\n",
    "rf_train_auc = roc_auc_score(y_train, rf_train_proba)\n",
    "rf_test_auc = roc_auc_score(y_test, rf_test_proba)\n",
    "\n",
    "print(f\"RandomForest - Recall en Entrenamiento: {rf_train_recall:.2f}\")\n",
    "print(f\"RandomForest - Recall en Prueba: {rf_test_recall:.2f}\")\n",
    "print(f\"RandomForest - F1 Score en Entrenamiento: {rf_train_f1:.2f}\")\n",
    "print(f\"RandomForest - F1 Score en Prueba: {rf_test_f1:.2f}\")\n",
    "print(f\"RandomForest - AUC en Entrenamiento: {rf_train_auc:.2f}\")\n",
    "print(f\"RandomForest - AUC en Prueba: {rf_test_auc:.2f}\")"
   ]
  }
 ],
 "metadata": {
  "kernelspec": {
   "display_name": "Python 3",
   "language": "python",
   "name": "python3"
  },
  "language_info": {
   "codemirror_mode": {
    "name": "ipython",
    "version": 3
   },
   "file_extension": ".py",
   "mimetype": "text/x-python",
   "name": "python",
   "nbconvert_exporter": "python",
   "pygments_lexer": "ipython3",
   "version": "3.12.4"
  }
 },
 "nbformat": 4,
 "nbformat_minor": 2
}
