{
 "cells": [
  {
   "cell_type": "code",
   "execution_count": 1,
   "metadata": {},
   "outputs": [],
   "source": [
    "from sklearn.model_selection import train_test_split\n",
    "from catboost import CatBoostClassifier\n",
    "import matplotlib.pyplot as plt\n",
    "import pandas as pd\n",
    "#from sklearn.metrics import recall_score, f1_score, roc_auc_score\n",
    "from sklearn.metrics import accuracy_score, precision_score, recall_score, f1_score, roc_auc_score, classification_report\n",
    "\n",
    "import os\n"
   ]
  },
  {
   "cell_type": "code",
   "execution_count": 2,
   "metadata": {},
   "outputs": [
    {
     "name": "stdout",
     "output_type": "stream",
     "text": [
      "Todos los archivos tienen un número de filas coincidente entre características y etiquetas, y la columna objetivo es 'satisfaction'.\n",
      "Características y etiquetas separadas correctamente.\n"
     ]
    }
   ],
   "source": [
    "\n",
    "# Especificar la ruta a la carpeta que contiene los archivos CSV\n",
    "ruta = os.path.abspath('../data/modelos_entrenamiento/')\n",
    "\n",
    "# Cargar los datos desde los archivos CSV en DataFrames\n",
    "X_train = pd.read_csv(os.path.join(ruta, 'X_train.csv'))\n",
    "y_train = pd.read_csv(os.path.join(ruta, 'y_train.csv'))\n",
    "X_val = pd.read_csv(os.path.join(ruta, 'X_val.csv'))\n",
    "y_val = pd.read_csv(os.path.join(ruta, 'y_val.csv'))\n",
    "X_test = pd.read_csv(os.path.join(ruta, 'X_test.csv'))\n",
    "y_test = pd.read_csv(os.path.join(ruta, 'y_test.csv'))\n",
    "\n",
    "# Verificar que las dimensiones de X e y coincidan para cada conjunto de datos\n",
    "assert X_train.shape[0] == y_train.shape[0], \"Error: El número de filas en X_train y y_train no coincide.\"\n",
    "assert X_val.shape[0] == y_val.shape[0], \"Error: El número de filas en X_val y y_val no coincide.\"\n",
    "assert X_test.shape[0] == y_test.shape[0], \"Error: El número de filas en X_test y y_test no coincide.\"\n",
    "\n",
    "# Verificar que las columnas tengan nombres correctos y consistentes\n",
    "assert 'satisfaction' in y_train.columns, \"Error: El archivo y_train.csv debe tener una columna llamada 'satisfaction'.\"\n",
    "assert 'satisfaction' in y_val.columns, \"Error: El archivo y_val.csv debe tener una columna llamada 'satisfaction'.\"\n",
    "assert 'satisfaction' in y_test.columns, \"Error: El archivo y_test.csv debe tener una columna llamada 'satisfaction'.\"\n",
    "\n",
    "print(\"Todos los archivos tienen un número de filas coincidente entre características y etiquetas, y la columna objetivo es 'satisfaction'.\")\n",
    "\n",
    "# Separar las características (X) de la variable objetivo (y)\n",
    "# Aquí asumimos que X_train, X_val, y X_test ya son DataFrames que contienen solo las características\n",
    "# Si estos DataFrames incluyen la columna 'satisfaction', habría que eliminarla.\n",
    "\n",
    "# Separar la variable objetivo (y)\n",
    "y_train = y_train['satisfaction']\n",
    "y_val = y_val['satisfaction']\n",
    "y_test = y_test['satisfaction']\n",
    "\n",
    "print(\"Características y etiquetas separadas correctamente.\")\n"
   ]
  },
  {
   "cell_type": "code",
   "execution_count": 3,
   "metadata": {},
   "outputs": [
    {
     "name": "stdout",
     "output_type": "stream",
     "text": [
      "0:\tlearn: 0.5642258\ttotal: 141ms\tremaining: 1m 10s\n",
      "100:\tlearn: 0.0954957\ttotal: 1.63s\tremaining: 6.45s\n",
      "200:\tlearn: 0.0812890\ttotal: 2.96s\tremaining: 4.41s\n",
      "300:\tlearn: 0.0732948\ttotal: 4.28s\tremaining: 2.83s\n",
      "400:\tlearn: 0.0675110\ttotal: 5.56s\tremaining: 1.37s\n",
      "499:\tlearn: 0.0624786\ttotal: 6.86s\tremaining: 0us\n",
      "Exactitud del modelo en el conjunto de prueba: 0.96\n",
      "CatBoost - Recall en Entrenamiento: 0.96\n",
      "CatBoost - Recall en Prueba: 0.94\n",
      "CatBoost - F1 Score en Entrenamiento: 0.97\n",
      "CatBoost - F1 Score en Prueba: 0.96\n",
      "CatBoost - AUC en Entrenamiento: 1.00\n",
      "CatBoost - AUC en Prueba: 1.00\n"
     ]
    }
   ],
   "source": [
    "# Inicializar el modelo CatBoostClassifier\n",
    "model = CatBoostClassifier(iterations=500, depth=6, learning_rate=0.1, verbose=100)\n",
    "\n",
    "# Entrenar el modelo\n",
    "model.fit(X_train, y_train)\n",
    "\n",
    "# Evaluar el modelo en el conjunto de prueba\n",
    "accuracy = model.score(X_test, y_test)\n",
    "print(f\"Exactitud del modelo en el conjunto de prueba: {accuracy:.2f}\")\n",
    "\n",
    "\n",
    "catboost_train_preds = model.predict(X_train)\n",
    "catboost_test_preds = model.predict(X_test)\n",
    "catboost_train_proba = model.predict_proba(X_train)[:, 1]\n",
    "catboost_test_proba = model.predict_proba(X_test)[:, 1]\n",
    "\n",
    "catboost_train_recall = recall_score(y_train, catboost_train_preds)\n",
    "catboost_test_recall = recall_score(y_test, catboost_test_preds)\n",
    "catboost_train_f1 = f1_score(y_train, catboost_train_preds)\n",
    "catboost_test_f1 = f1_score(y_test, catboost_test_preds)\n",
    "catboost_train_auc = roc_auc_score(y_train, catboost_train_proba)\n",
    "catboost_test_auc = roc_auc_score(y_test, catboost_test_proba)\n",
    "\n",
    "print(f\"CatBoost - Recall en Entrenamiento: {catboost_train_recall:.2f}\")\n",
    "print(f\"CatBoost - Recall en Prueba: {catboost_test_recall:.2f}\")\n",
    "print(f\"CatBoost - F1 Score en Entrenamiento: {catboost_train_f1:.2f}\")\n",
    "print(f\"CatBoost - F1 Score en Prueba: {catboost_test_f1:.2f}\")\n",
    "print(f\"CatBoost - AUC en Entrenamiento: {catboost_train_auc:.2f}\")\n",
    "print(f\"CatBoost - AUC en Prueba: {catboost_test_auc:.2f}\")"
   ]
  }
 ],
 "metadata": {
  "kernelspec": {
   "display_name": "venv",
   "language": "python",
   "name": "python3"
  },
  "language_info": {
   "codemirror_mode": {
    "name": "ipython",
    "version": 3
   },
   "file_extension": ".py",
   "mimetype": "text/x-python",
   "name": "python",
   "nbconvert_exporter": "python",
   "pygments_lexer": "ipython3",
   "version": "3.12.4"
  }
 },
 "nbformat": 4,
 "nbformat_minor": 2
}
